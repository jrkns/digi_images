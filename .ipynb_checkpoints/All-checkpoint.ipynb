{
 "cells": [
  {
   "cell_type": "markdown",
   "metadata": {},
   "source": [
    "# Digital Image Processing Coursework\n",
    "\n",
    "### Slide is here\n",
    "https://github.com/jrkns/digi_images/blob/master/Slide.pptx"
   ]
  },
  {
   "cell_type": "markdown",
   "metadata": {},
   "source": [
    "# HW1: Greyscale\n",
    "\n",
    "&nbsp;&nbsp;&nbsp;&nbsp;&nbsp;&nbsp;&nbsp;&nbsp;&nbsp;&nbsp;&nbsp;&nbsp; a **grayscale** or **greyscale** digital image is an image in which the value of each pixel is a single sample, that is, it carries only intensity information. Images of this sort, also known as black-and-white, are composed exclusively of shades of gray, varying from black at the weakest intensity to white at the strongest."
   ]
  },
  {
   "cell_type": "markdown",
   "metadata": {},
   "source": [
    "## Formula\n",
    "- Gray = (Red + Green + Blue) / 3\n",
    "- Gray = (Red * 0.3 + Green * 0.59 + Blue * 0.11) >>>>>> Photoshop used\n",
    "- Gray = (Red * 0.2126 + Green * 0.7152 + Blue * 0.0722) >>>>>> called \"LUMA\" (BT.709)\n",
    "- Gray = (Red * 0.299 + Green * 0.587 + Blue * 0.114) >>>>>> BT.601\n",
    "\n",
    "### Readmore\n",
    "http://www.tannerhelland.com/3643/grayscale-image-algorithm-vb6/"
   ]
  },
  {
   "cell_type": "markdown",
   "metadata": {},
   "source": [
    "### Hard-code"
   ]
  },
  {
   "cell_type": "code",
   "execution_count": 81,
   "metadata": {
    "collapsed": true
   },
   "outputs": [],
   "source": [
    "import sys\n",
    "from PIL import Image\n",
    "\n",
    "def main(name):\n",
    "    input_img = Image.open(name).convert('RGB')\n",
    "    w, h = input_img.size\n",
    "    for x in range(w):\n",
    "        for y in range(h):\n",
    "            current = input_img.getpixel((x, y))\n",
    "            grey = sum(current)//3 # Change formular here\n",
    "            input_img.putpixel((x, y), (grey,grey,grey))\n",
    "    # Save image\n",
    "    input_img.save('1_greyscale/out_hard.png')\n",
    "if __name__ == '__main__':\n",
    "    try:\n",
    "        main(sys.argv[-1])\n",
    "    except:\n",
    "        main('1_greyscale/in.png')"
   ]
  },
  {
   "cell_type": "markdown",
   "metadata": {},
   "source": [
    "### Library-use"
   ]
  },
  {
   "cell_type": "code",
   "execution_count": 82,
   "metadata": {
    "collapsed": true
   },
   "outputs": [],
   "source": [
    "import sys\n",
    "from PIL import Image\n",
    "\n",
    "def main(name):\n",
    "    img = Image.open(name).convert('LA')\n",
    "    img.save('1_greyscale/out_lib.png')\n",
    "\n",
    "if __name__ == '__main__':\n",
    "    try:\n",
    "        main(sys.argv[-1])\n",
    "    except:\n",
    "        main('1_greyscale/in.png')"
   ]
  },
  {
   "cell_type": "markdown",
   "metadata": {},
   "source": [
    "## Input\n",
    "<img src=\"1_greyscale/in.png\" alt=\"Drawing\" style=\"width: 500px;\"/> <br>\n",
    "## Output\n",
    "<img src=\"1_greyscale/out_hard.png\" alt=\"Drawing\" style=\"width: 500px;\"/>\n",
    "<center><strong>Hard-code</strong></center>\n",
    "<br>\n",
    "<img src=\"1_greyscale/out_lib.png\" alt=\"Drawing\" style=\"width: 500px;\"/>\n",
    "<center><strong>Library-use</strong></center>"
   ]
  },
  {
   "cell_type": "markdown",
   "metadata": {},
   "source": [
    "# HW2: Find Connected Component\n",
    "\n",
    "&nbsp;&nbsp;&nbsp;&nbsp;&nbsp;&nbsp;&nbsp;&nbsp;&nbsp;&nbsp;&nbsp;&nbsp; **Flood fill**, also called **seed fill**, is an algorithm that determines the area connected to a given node in a multi-dimensional array. It is used in the \"bucket\" fill tool of paint programs to fill connected, similarly-colored areas with a different color, and in games such as Go and Minesweeper for determining which pieces are cleared. When applied on an image to fill a particular bounded area with color, it is also known as boundary fill."
   ]
  },
  {
   "cell_type": "markdown",
   "metadata": {},
   "source": [
    "###  Hard-code"
   ]
  },
  {
   "cell_type": "code",
   "execution_count": 3,
   "metadata": {
    "collapsed": true
   },
   "outputs": [],
   "source": [
    "from PIL import Image\n",
    "import random as rd\n",
    "from collections import deque\n",
    "import sys\n",
    "\n",
    "WHITE = 255, 255, 255\n",
    "BLACK = 0, 0, 0\n",
    "\n",
    "def gen_colors(n):\n",
    "    colors = []\n",
    "    i = 0\n",
    "    while i < n:\n",
    "        color = (rd.randrange(255),rd.randrange(255),rd.randrange(255))\n",
    "        if color != BLACK and color != WHITE:\n",
    "            colors.append(color)\n",
    "            i += 1\n",
    "    return colors\n",
    "\n",
    "def main(name):\n",
    "    input_img = Image.open(name).convert('RGB')\n",
    "    w, h = input_img.size\n",
    "    colors = gen_colors(100)\n",
    "    i = 0\n",
    "    for x in range(w):\n",
    "        for y in range(h):\n",
    "            current = input_img.getpixel((x, y))\n",
    "            if current not in colors:\n",
    "                flood_fill(x, y, colors[i], input_img, w, h)\n",
    "                if i + 1 >= len(colors):\n",
    "                    break\n",
    "                i += 1\n",
    "    # Save image\n",
    "    input_img.save('2_concom/out.png')\n",
    "\n",
    "def flood_fill(x, y, color, image, w, h):\n",
    "    source = image.getpixel((x, y))\n",
    "    if source != color:\n",
    "        pixels = deque([(x, y)])\n",
    "        while pixels:\n",
    "            x, y = place = pixels.popleft()\n",
    "            image.putpixel(place, color)\n",
    "            for x_offset in -1,0,1:\n",
    "                x_offset += x\n",
    "                for y_offset in -1,0,1:\n",
    "                    y_offset += y\n",
    "                    new_place = x_offset, y_offset\n",
    "                    if x_offset < 0 or x_offset >= w or y_offset < 0 or y_offset >= h:\n",
    "                        continue\n",
    "                    if image.getpixel(new_place) == source and new_place not in pixels:\n",
    "                        pixels.append(new_place)\n",
    "\n",
    "if __name__ == '__main__':\n",
    "    try:\n",
    "        main(sys.argv[-1])\n",
    "    except:\n",
    "        main('2_concom/in.png')"
   ]
  },
  {
   "cell_type": "markdown",
   "metadata": {},
   "source": [
    "## Input\n",
    "<img src=\"2_concom/in.png\" alt=\"Drawing\" style=\"width: 500px;\"/> <br> \n",
    "## Output\n",
    "<img src=\"2_concom/out.png\" alt=\"Drawing\" style=\"width: 500px;\"/>"
   ]
  },
  {
   "cell_type": "markdown",
   "metadata": {
    "collapsed": true
   },
   "source": [
    "# HW3: Histogram Equalization\n",
    "&nbsp;&nbsp;&nbsp;&nbsp;&nbsp;&nbsp;&nbsp;&nbsp;&nbsp;&nbsp;&nbsp;&nbsp; This method usually increases the global contrast of many images, especially when the usable data of the image is represented by close contrast values. Through this adjustment, the intensities can be better distributed on the histogram. This allows for areas of lower local contrast to gain a higher contrast. Histogram equalization accomplishes this by effectively spreading out the most frequent intensity values."
   ]
  },
  {
   "cell_type": "markdown",
   "metadata": {},
   "source": [
    "###  Hard-code"
   ]
  },
  {
   "cell_type": "code",
   "execution_count": 79,
   "metadata": {
    "collapsed": true
   },
   "outputs": [],
   "source": [
    "from PIL import Image\n",
    "import numpy as np\n",
    "import math\n",
    "\n",
    "# Algorithm\n",
    "def equalize_hist(img):\n",
    "    data = img.copy().flatten()\n",
    "    histogram = [0]*256\n",
    "    for pixel in data:\n",
    "        histogram[pixel] += 1\n",
    "    cdf = [0]*256\n",
    "    for i in range (len(histogram)):\n",
    "        cdf[i] = sum(histogram[0:i+1])\n",
    "    \n",
    "    prob_of_cdf = [0]*256\n",
    "    for i in range (len(cdf)):\n",
    "        prob_of_cdf[i] = cdf[i]/cdf[-1]\n",
    "    \n",
    "    new_map = [0]*256\n",
    "    for i in range (len(new_map)):\n",
    "        new_map[i] = math.floor(prob_of_cdf[i]*255)\n",
    "\n",
    "    new_img = np.array([[0]*len(img[0])]*len(img), dtype=np.uint8)\n",
    "    for x in range (len(img)):\n",
    "        for y in range (len(img[0])):\n",
    "            new_img[x][y] = new_map[img[x][y]]\n",
    "    return new_img\n",
    "\n",
    "if __name__ == '__main__':\n",
    "    img = Image.open('3_histeq/in.png')\n",
    "    img.load()\n",
    "    data = np.asarray( img, dtype=np.uint8 )\n",
    "    img_eq = Image.fromarray(equalize_hist(data), mode='L')\n",
    "    img_eq.save('3_histeq/out_hard.png')\n",
    "    "
   ]
  },
  {
   "cell_type": "markdown",
   "metadata": {},
   "source": [
    "### Library-use"
   ]
  },
  {
   "cell_type": "code",
   "execution_count": 80,
   "metadata": {
    "collapsed": true,
    "scrolled": true
   },
   "outputs": [],
   "source": [
    "from skimage import exposure\n",
    "import sys\n",
    "from PIL import Image\n",
    "import numpy as np\n",
    "\n",
    "def main(name):\n",
    "    img = Image.open(name)\n",
    "    img.load()\n",
    "    data = np.asarray( img, dtype=\"int32\" )\n",
    "    img_eq_array = exposure.equalize_hist(data)\n",
    "    img_eq = Image.fromarray(img_eq_array)\n",
    "    img_eq.save('3_histeq/out_lib.tiff')\n",
    "\n",
    "if __name__ == '__main__':\n",
    "    main('3_histeq/in.png')"
   ]
  },
  {
   "cell_type": "markdown",
   "metadata": {},
   "source": [
    "## Input\n",
    "<img src=\"3_histeq/in.png\" alt=\"Drawing\" style=\"width: 500px;\"/> <br> \n",
    "## Output\n",
    "<img src=\"3_histeq/out_hard.png\" alt=\"Drawing\" style=\"width: 500px;\"/>\n",
    "<center><strong>Hard-code</strong></center>\n",
    "<br>\n",
    "<img src=\"3_histeq/out_lib.tiff\" alt=\"Drawing\" style=\"width: 500px;\"/>\n",
    "<center><strong>Library-use</strong></center>"
   ]
  },
  {
   "cell_type": "markdown",
   "metadata": {},
   "source": [
    "# HW4: Huffman Encoding\n",
    "&nbsp;&nbsp;&nbsp;&nbsp;&nbsp;&nbsp;&nbsp;&nbsp;&nbsp;&nbsp;&nbsp;&nbsp; Huffman encoding algorithm."
   ]
  },
  {
   "cell_type": "code",
   "execution_count": 1,
   "metadata": {},
   "outputs": [
    {
     "name": "stdout",
     "output_type": "stream",
     "text": [
      "Steps\n",
      "'i':0.16 'g':0.12 'a':0.08 'e':0.08 's':0.08 ' ':0.08 'c':0.04 'd':0.04 'l':0.04 'm':0.04 'n':0.04 'o':0.04 'p':0.04 'r':0.04 't':0.04 \n",
      "'i':0.16 'g':0.12 'a':0.08 'e':0.08 's':0.08 ' ':0.08 'r|t':0.08 'c':0.04 'd':0.04 'l':0.04 'm':0.04 'n':0.04 'o':0.04 'p':0.04 \n",
      "'i':0.16 'g':0.12 'a':0.08 'e':0.08 's':0.08 ' ':0.08 'r|t':0.08 'o|p':0.08 'c':0.04 'd':0.04 'l':0.04 'm':0.04 'n':0.04 \n",
      "'i':0.16 'g':0.12 'a':0.08 'e':0.08 's':0.08 ' ':0.08 'r|t':0.08 'o|p':0.08 'm|n':0.08 'c':0.04 'd':0.04 'l':0.04 \n",
      "'i':0.16 'g':0.12 'a':0.08 'e':0.08 's':0.08 ' ':0.08 'r|t':0.08 'o|p':0.08 'm|n':0.08 'd|l':0.08 'c':0.04 \n",
      "'i':0.16 'g':0.12 'dl|c':0.12 'a':0.08 'e':0.08 's':0.08 ' ':0.08 'r|t':0.08 'o|p':0.08 'm|n':0.08 \n",
      "'i':0.16 'op|mn':0.16 'g':0.12 'dl|c':0.12 'a':0.08 'e':0.08 's':0.08 ' ':0.08 'r|t':0.08 \n",
      "'i':0.16 'op|mn':0.16 ' |rt':0.16 'g':0.12 'dl|c':0.12 'a':0.08 'e':0.08 's':0.08 \n",
      "'i':0.16 'op|mn':0.16 ' |rt':0.16 'e|s':0.16 'g':0.12 'dl|c':0.12 'a':0.08 \n",
      "'dlc|a':0.20 'i':0.16 'op|mn':0.16 ' |rt':0.16 'e|s':0.16 'g':0.12 \n",
      "'es|g':0.29 'dlc|a':0.20 'i':0.16 'op|mn':0.16 ' |rt':0.16 \n",
      "'opmn| rt':0.33 'es|g':0.29 'dlc|a':0.20 'i':0.16 \n",
      "'dlca|i':0.37 'opmn| rt':0.33 'es|g':0.29 \n",
      "'opmn rt|esg':0.62 'dlca|i':0.37 \n",
      "\n",
      "Final Encoding\n",
      "{'a': '101', 'c': '1001', 'd': '10000', 'e': '0100', 'g': '011', 'i': '11', 'l': '10001', 'm': '00010', 'n': '00011', 'o': '00000', 'p': '00001', 'r': '00110', 's': '0101', 't': '00111', ' ': '0010'}\n"
     ]
    }
   ],
   "source": [
    "#input_str = input('Please enter sentence >> ')\n",
    "input_str = 'digital image processing'\n",
    "\n",
    "# Count Prob\n",
    "alphabet = 'abcdefghijklmnopqrstuvwxyz '\n",
    "count_alpha = [0]*len(alphabet)\n",
    "count = 0\n",
    "\n",
    "input_str = input_str.lower()\n",
    "\n",
    "for char in input_str:\n",
    "    if char not in alphabet:\n",
    "        print('error: Some character not in languages.')\n",
    "        exit()\n",
    "\n",
    "for char in input_str:\n",
    "    count += 1\n",
    "    count_alpha[alphabet.find(char)] += 1\n",
    "\n",
    "first_step = list()\n",
    "consider_alpha = dict()\n",
    "\n",
    "for i in range (len(count_alpha)):\n",
    "    if count_alpha[i] > 0:\n",
    "        consider_alpha[alphabet[i]] = ''\n",
    "        first_step.append((alphabet[i],count_alpha[i]/count))\n",
    "\n",
    "if len(consider_alpha) < 2:\n",
    "    print('error: Required more than 2 unique characters.')\n",
    "    exit()\n",
    "\n",
    "first_step = sorted(first_step, key=lambda x: -x[1]) \n",
    "\n",
    "consider = list(first_step)\n",
    "steps = list()\n",
    "\n",
    "print('Steps')\n",
    "while len(consider) > 1:\n",
    "    steps.append(consider)\n",
    "    step_str = ''\n",
    "    for each in consider:\n",
    "        step_str += '\\''+each[0]+'\\':' + str(each[1])[:4] +' '\n",
    "    print(step_str)\n",
    "    last = consider[-1]\n",
    "    pre_last = consider[-2]\n",
    "    com1 = ''\n",
    "    com2 = ''\n",
    "    for c in last[0]:\n",
    "        if c != '|':\n",
    "            com1 += c\n",
    "    for c in pre_last[0]:\n",
    "        if c != '|':\n",
    "            com2 += c\n",
    "    new = (com2+'|'+com1,last[1]+pre_last[1])\n",
    "    new_consider = consider[:-2]\n",
    "    new_consider.append(new)\n",
    "    consider = sorted(new_consider, key=lambda x: -x[1]) \n",
    "\n",
    "print('\\nFinal Encoding')\n",
    "\n",
    "for char in steps[-1][0][0]:\n",
    "    if char != '|':\n",
    "        consider_alpha[char] += '0'\n",
    "for char in steps[-1][1][0]:\n",
    "    if char != '|':\n",
    "        consider_alpha[char] += '1'\n",
    "\n",
    "for i in range(len(steps)-1,0,-1):\n",
    "    unique = list()\n",
    "    for each in steps[i-1]:\n",
    "        if each not in steps[i]:\n",
    "            unique.append(each)\n",
    "    for char in unique[0][0]:\n",
    "        if char != '|':\n",
    "            consider_alpha[char] += '0'\n",
    "    for char in unique[1][0]:\n",
    "        if char != '|':\n",
    "            consider_alpha[char] += '1'\n",
    "    \n",
    "print(consider_alpha)"
   ]
  },
  {
   "cell_type": "markdown",
   "metadata": {},
   "source": [
    "# HW5: Median Filtering\n",
    "&nbsp;&nbsp;&nbsp;&nbsp;&nbsp;&nbsp;&nbsp;&nbsp;&nbsp;&nbsp;&nbsp;&nbsp; Removing salt and pepper noise."
   ]
  },
  {
   "cell_type": "markdown",
   "metadata": {},
   "source": [
    "### Hard-code"
   ]
  },
  {
   "cell_type": "code",
   "execution_count": 11,
   "metadata": {
    "collapsed": true
   },
   "outputs": [],
   "source": [
    "import sys\n",
    "from PIL import Image\n",
    "import numpy as np\n",
    "\n",
    "# P0 P1 P2\n",
    "# P3 P4 P5\n",
    "# P6 P7 P8\n",
    "\n",
    "def med(array):\n",
    "    length = len(array)\n",
    "    if length%2 != 0:\n",
    "        return array[(length//2)]\n",
    "    return (array[(length//2)-1] + array[(length//2)]) // 2\n",
    "\n",
    "\n",
    "def main(name):\n",
    "    input_img = Image.open(name).convert('RGB')\n",
    "    new_img = input_img.copy()\n",
    "    w, h = input_img.size\n",
    "    for x in range(w):\n",
    "        for y in range(h):\n",
    "            ignore = [False]*9\n",
    "            P = [(0,0,0)]*9\n",
    "            P[4] = input_img.getpixel((x,y))\n",
    "            try:\n",
    "                P[0] = input_img.getpixel((x-1,y-1))\n",
    "            except:\n",
    "                ignore[0] = True\n",
    "            try:\n",
    "                P[1] = input_img.getpixel((x,y-1))\n",
    "            except:\n",
    "                ignore[1] = True\n",
    "            try:\n",
    "                P[2] = input_img.getpixel((x+1,y-1))\n",
    "            except:\n",
    "                ignore[2] = True\n",
    "            try:\n",
    "                P[3] = input_img.getpixel((x-1,y))\n",
    "            except:\n",
    "                ignore[3] = True\n",
    "            try:\n",
    "                P[5] = input_img.getpixel((x+1,y))\n",
    "            except:\n",
    "                ignore[5] = True\n",
    "            try:\n",
    "                P[6] = input_img.getpixel((x-1,y+1))\n",
    "            except:\n",
    "                ignore[6] = True\n",
    "            try:\n",
    "                P[7] = input_img.getpixel((x,y+1))\n",
    "            except:\n",
    "                ignore[7] = True\n",
    "            try:\n",
    "                P[8] = input_img.getpixel((x+1,y+1))\n",
    "            except:\n",
    "                ignore[8] = True\n",
    "            \n",
    "            red = list()\n",
    "            green = list()\n",
    "            blue = list()\n",
    "            for i in range (len(ignore)):\n",
    "                if not ignore[i]:\n",
    "                    red.append(P[i][0])\n",
    "                    green.append(P[i][1])\n",
    "                    blue.append(P[i][2])\n",
    "            red = sorted(red)\n",
    "            green = sorted(green)\n",
    "            blue = sorted(blue)\n",
    "            new_img.putpixel((x,y),(med(red),med(green),med(blue))) \n",
    "    # Save image\n",
    "    new_img.save('5_median_filtering/out.png')\n",
    "if __name__ == '__main__':\n",
    "    try:\n",
    "        main(sys.argv[-1])\n",
    "    except:\n",
    "        main('5_median_filtering/in.png')"
   ]
  },
  {
   "cell_type": "markdown",
   "metadata": {},
   "source": [
    "## Input\n",
    "<img src=\"5_median_filtering/in.png\" alt=\"Drawing\" style=\"width: 500px;\"/> <br> \n",
    "## Output\n",
    "<img src=\"5_median_filtering/out.png\" alt=\"Drawing\" style=\"width: 500px;\"/>"
   ]
  },
  {
   "cell_type": "markdown",
   "metadata": {},
   "source": [
    "# HW6: Hough Transform\n",
    "&nbsp;&nbsp;&nbsp;&nbsp;&nbsp;&nbsp;&nbsp;&nbsp;&nbsp;&nbsp;&nbsp;&nbsp; Detect line."
   ]
  },
  {
   "cell_type": "markdown",
   "metadata": {},
   "source": [
    "### Open-CV Libray"
   ]
  },
  {
   "cell_type": "code",
   "execution_count": 4,
   "metadata": {},
   "outputs": [
    {
     "data": {
      "text/plain": [
       "True"
      ]
     },
     "execution_count": 4,
     "metadata": {},
     "output_type": "execute_result"
    }
   ],
   "source": [
    "import cv2\n",
    "import numpy as np\n",
    "\n",
    "img = cv2.imread('6_ht/in.jpg')\n",
    "gray = cv2.cvtColor(img,cv2.COLOR_BGR2GRAY)\n",
    "edges = cv2.Canny(gray,50,150,apertureSize = 3)\n",
    "\n",
    "lines = cv2.HoughLines(edges,1,np.pi/180,200)\n",
    "for rho,theta in lines[0]:\n",
    "    a = np.cos(theta)\n",
    "    b = np.sin(theta)\n",
    "    x0 = a*rho\n",
    "    y0 = b*rho\n",
    "    x1 = int(x0 + 1000*(-b))\n",
    "    y1 = int(y0 + 1000*(a))\n",
    "    x2 = int(x0 - 1000*(-b))\n",
    "    y2 = int(y0 - 1000*(a))\n",
    "\n",
    "    cv2.line(img,(x1,y1),(x2,y2),(0,0,255),2)\n",
    "\n",
    "cv2.imwrite('6_ht/out.jpg',img)"
   ]
  },
  {
   "cell_type": "markdown",
   "metadata": {},
   "source": [
    "## Input\n",
    "<img src=\"6_ht/in.jpg\" alt=\"Drawing\" style=\"width: 500px;\"/> <br> \n",
    "## Output\n",
    "<img src=\"6_ht/out.jpg\" alt=\"Drawing\" style=\"width: 500px;\"/>"
   ]
  },
  {
   "cell_type": "code",
   "execution_count": null,
   "metadata": {},
   "outputs": [],
   "source": []
  }
 ],
 "metadata": {
  "kernelspec": {
   "display_name": "Python 3",
   "language": "python",
   "name": "python3"
  },
  "language_info": {
   "codemirror_mode": {
    "name": "ipython",
    "version": 3
   },
   "file_extension": ".py",
   "mimetype": "text/x-python",
   "name": "python",
   "nbconvert_exporter": "python",
   "pygments_lexer": "ipython3",
   "version": "3.6.3"
  }
 },
 "nbformat": 4,
 "nbformat_minor": 2
}
