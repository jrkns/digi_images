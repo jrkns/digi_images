{
 "cells": [
  {
   "cell_type": "markdown",
   "metadata": {},
   "source": [
    "# Digital Image Processing Coursework\n",
    "Danupat Khamnuansin\n",
    "### Slide is here"
   ]
  },
  {
   "cell_type": "markdown",
   "metadata": {},
   "source": [
    "# HW1: Greyscale\n",
    "\n",
    "&nbsp;&nbsp;&nbsp;&nbsp;&nbsp;&nbsp;&nbsp;&nbsp;&nbsp;&nbsp;&nbsp;&nbsp; a **grayscale** or **greyscale** digital image is an image in which the value of each pixel is a single sample, that is, it carries only intensity information. Images of this sort, also known as black-and-white, are composed exclusively of shades of gray, varying from black at the weakest intensity to white at the strongest."
   ]
  },
  {
   "cell_type": "markdown",
   "metadata": {},
   "source": [
    "## Formula\n",
    "- Gray = (Red + Green + Blue) / 3\n",
    "- Gray = (Red * 0.3 + Green * 0.59 + Blue * 0.11) >>>>>> Photoshop used\n",
    "- Gray = (Red * 0.2126 + Green * 0.7152 + Blue * 0.0722) >>>>>> called \"LUMA\" (BT.709)\n",
    "- Gray = (Red * 0.299 + Green * 0.587 + Blue * 0.114) >>>>>> BT.601\n",
    "\n",
    "### Readmore\n",
    "http://www.tannerhelland.com/3643/grayscale-image-algorithm-vb6/"
   ]
  },
  {
   "cell_type": "markdown",
   "metadata": {},
   "source": [
    "### Hard-code"
   ]
  },
  {
   "cell_type": "code",
   "execution_count": 81,
   "metadata": {
    "collapsed": true
   },
   "outputs": [],
   "source": [
    "import sys\n",
    "from PIL import Image\n",
    "\n",
    "def main(name):\n",
    "    input_img = Image.open(name).convert('RGB')\n",
    "    w, h = input_img.size\n",
    "    for x in range(w):\n",
    "        for y in range(h):\n",
    "            current = input_img.getpixel((x, y))\n",
    "            grey = sum(current)//3 # Change formular here\n",
    "            input_img.putpixel((x, y), (grey,grey,grey))\n",
    "    # Save image\n",
    "    input_img.save('1_greyscale/out_hard.png')\n",
    "if __name__ == '__main__':\n",
    "    try:\n",
    "        main(sys.argv[-1])\n",
    "    except:\n",
    "        main('1_greyscale/in.png')"
   ]
  },
  {
   "cell_type": "markdown",
   "metadata": {},
   "source": [
    "### Library-use"
   ]
  },
  {
   "cell_type": "code",
   "execution_count": 82,
   "metadata": {
    "collapsed": true
   },
   "outputs": [],
   "source": [
    "import sys\n",
    "from PIL import Image\n",
    "\n",
    "def main(name):\n",
    "    img = Image.open(name).convert('LA')\n",
    "    img.save('1_greyscale/out_lib.png')\n",
    "\n",
    "if __name__ == '__main__':\n",
    "    try:\n",
    "        main(sys.argv[-1])\n",
    "    except:\n",
    "        main('1_greyscale/in.png')"
   ]
  },
  {
   "cell_type": "markdown",
   "metadata": {},
   "source": [
    "## Input\n",
    "<img src=\"1_greyscale/in.png\" alt=\"Drawing\" style=\"width: 500px;\"/> <br>\n",
    "## Output\n",
    "<img src=\"1_greyscale/out_hard.png\" alt=\"Drawing\" style=\"width: 500px;\"/>\n",
    "<center><b>Hard-code</b></center>\n",
    "<br>\n",
    "<img src=\"1_greyscale/out_lib.png\" alt=\"Drawing\" style=\"width: 500px;\"/>\n",
    "<center><b>Library-use</b></center>"
   ]
  },
  {
   "cell_type": "markdown",
   "metadata": {},
   "source": [
    "# HW2: Find Connected Component\n",
    "\n",
    "&nbsp;&nbsp;&nbsp;&nbsp;&nbsp;&nbsp;&nbsp;&nbsp;&nbsp;&nbsp;&nbsp;&nbsp; **Flood fill**, also called **seed fill**, is an algorithm that determines the area connected to a given node in a multi-dimensional array. It is used in the \"bucket\" fill tool of paint programs to fill connected, similarly-colored areas with a different color, and in games such as Go and Minesweeper for determining which pieces are cleared. When applied on an image to fill a particular bounded area with color, it is also known as boundary fill."
   ]
  },
  {
   "cell_type": "markdown",
   "metadata": {},
   "source": [
    "###  Hard-code"
   ]
  },
  {
   "cell_type": "code",
   "execution_count": 3,
   "metadata": {
    "collapsed": true
   },
   "outputs": [],
   "source": [
    "from PIL import Image\n",
    "import random as rd\n",
    "from collections import deque\n",
    "import sys\n",
    "\n",
    "WHITE = 255, 255, 255\n",
    "BLACK = 0, 0, 0\n",
    "\n",
    "def gen_colors(n):\n",
    "    colors = []\n",
    "    i = 0\n",
    "    while i < n:\n",
    "        color = (rd.randrange(255),rd.randrange(255),rd.randrange(255))\n",
    "        if color != BLACK and color != WHITE:\n",
    "            colors.append(color)\n",
    "            i += 1\n",
    "    return colors\n",
    "\n",
    "def main(name):\n",
    "    input_img = Image.open(name).convert('RGB')\n",
    "    w, h = input_img.size\n",
    "    colors = gen_colors(100)\n",
    "    i = 0\n",
    "    for x in range(w):\n",
    "        for y in range(h):\n",
    "            current = input_img.getpixel((x, y))\n",
    "            if current not in colors:\n",
    "                flood_fill(x, y, colors[i], input_img, w, h)\n",
    "                if i + 1 >= len(colors):\n",
    "                    break\n",
    "                i += 1\n",
    "    # Save image\n",
    "    input_img.save('2_concom/out.png')\n",
    "\n",
    "def flood_fill(x, y, color, image, w, h):\n",
    "    source = image.getpixel((x, y))\n",
    "    if source != color:\n",
    "        pixels = deque([(x, y)])\n",
    "        while pixels:\n",
    "            x, y = place = pixels.popleft()\n",
    "            image.putpixel(place, color)\n",
    "            for x_offset in -1,0,1:\n",
    "                x_offset += x\n",
    "                for y_offset in -1,0,1:\n",
    "                    y_offset += y\n",
    "                    new_place = x_offset, y_offset\n",
    "                    if x_offset < 0 or x_offset >= w or y_offset < 0 or y_offset >= h:\n",
    "                        continue\n",
    "                    if image.getpixel(new_place) == source and new_place not in pixels:\n",
    "                        pixels.append(new_place)\n",
    "\n",
    "if __name__ == '__main__':\n",
    "    try:\n",
    "        main(sys.argv[-1])\n",
    "    except:\n",
    "        main('2_concom/in.png')"
   ]
  },
  {
   "cell_type": "markdown",
   "metadata": {},
   "source": [
    "## Input\n",
    "<img src=\"2_concom/in.png\" alt=\"Drawing\" style=\"width: 500px;\"/> <br> \n",
    "## Output\n",
    "<img src=\"2_concom/out.png\" alt=\"Drawing\" style=\"width: 500px;\"/>"
   ]
  },
  {
   "cell_type": "markdown",
   "metadata": {
    "collapsed": true
   },
   "source": [
    "# HW3: Histogram Equalization\n",
    "&nbsp;&nbsp;&nbsp;&nbsp;&nbsp;&nbsp;&nbsp;&nbsp;&nbsp;&nbsp;&nbsp;&nbsp; This method usually increases the global contrast of many images, especially when the usable data of the image is represented by close contrast values. Through this adjustment, the intensities can be better distributed on the histogram. This allows for areas of lower local contrast to gain a higher contrast. Histogram equalization accomplishes this by effectively spreading out the most frequent intensity values."
   ]
  },
  {
   "cell_type": "markdown",
   "metadata": {},
   "source": [
    "###  Hard-code"
   ]
  },
  {
   "cell_type": "code",
   "execution_count": 79,
   "metadata": {},
   "outputs": [],
   "source": [
    "from PIL import Image\n",
    "import numpy as np\n",
    "import math\n",
    "\n",
    "# Algorithm\n",
    "def equalize_hist(img):\n",
    "    data = img.copy().flatten()\n",
    "    histogram = [0]*256\n",
    "    for pixel in data:\n",
    "        histogram[pixel] += 1\n",
    "    cdf = [0]*256\n",
    "    for i in range (len(histogram)):\n",
    "        cdf[i] = sum(histogram[0:i+1])\n",
    "    \n",
    "    prob_of_cdf = [0]*256\n",
    "    for i in range (len(cdf)):\n",
    "        prob_of_cdf[i] = cdf[i]/cdf[-1]\n",
    "    \n",
    "    new_map = [0]*256\n",
    "    for i in range (len(new_map)):\n",
    "        new_map[i] = math.floor(prob_of_cdf[i]*255)\n",
    "\n",
    "    new_img = np.array([[0]*len(img[0])]*len(img), dtype=np.uint8)\n",
    "    for x in range (len(img)):\n",
    "        for y in range (len(img[0])):\n",
    "            new_img[x][y] = new_map[img[x][y]]\n",
    "    return new_img\n",
    "\n",
    "if __name__ == '__main__':\n",
    "    img = Image.open('3_histeq/in.png')\n",
    "    img.load()\n",
    "    data = np.asarray( img, dtype=np.uint8 )\n",
    "    img_eq = Image.fromarray(equalize_hist(data), mode='L')\n",
    "    img_eq.save('3_histeq/out_hard.png')\n",
    "    "
   ]
  },
  {
   "cell_type": "markdown",
   "metadata": {},
   "source": [
    "### Library-use"
   ]
  },
  {
   "cell_type": "code",
   "execution_count": 80,
   "metadata": {
    "scrolled": true
   },
   "outputs": [],
   "source": [
    "from skimage import exposure\n",
    "import sys\n",
    "from PIL import Image\n",
    "import numpy as np\n",
    "\n",
    "def main(name):\n",
    "    img = Image.open(name)\n",
    "    img.load()\n",
    "    data = np.asarray( img, dtype=\"int32\" )\n",
    "    img_eq_array = exposure.equalize_hist(data)\n",
    "    img_eq = Image.fromarray(img_eq_array)\n",
    "    img_eq.save('3_histeq/out_lib.tiff')\n",
    "\n",
    "if __name__ == '__main__':\n",
    "    main('3_histeq/in.png')"
   ]
  },
  {
   "cell_type": "markdown",
   "metadata": {},
   "source": [
    "## Input\n",
    "<img src=\"3_histeq/in.png\" alt=\"Drawing\" style=\"width: 500px;\"/> <br> \n",
    "## Output\n",
    "<img src=\"3_histeq/out_hard.png\" alt=\"Drawing\" style=\"width: 500px;\"/>\n",
    "<center><b>Hard-code</b></center>\n",
    "<br>\n",
    "<img src=\"3_histeq/out_lib.tiff\" alt=\"Drawing\" style=\"width: 500px;\"/>\n",
    "<center><b>Library-use</b></center>"
   ]
  }
 ],
 "metadata": {
  "kernelspec": {
   "display_name": "Python 3",
   "language": "python",
   "name": "python3"
  },
  "language_info": {
   "codemirror_mode": {
    "name": "ipython",
    "version": 3
   },
   "file_extension": ".py",
   "mimetype": "text/x-python",
   "name": "python",
   "nbconvert_exporter": "python",
   "pygments_lexer": "ipython3",
   "version": "3.6.2"
  }
 },
 "nbformat": 4,
 "nbformat_minor": 2
}
